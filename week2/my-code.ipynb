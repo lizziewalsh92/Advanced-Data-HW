{
 "cells": [
  {
   "cell_type": "markdown",
   "id": "cc9c1795-c515-4b3e-a225-4cb9805ee7ee",
   "metadata": {},
   "source": [
    "# Lizzie's Favorite Things\n",
    "## A quick overview of some of Lizzie's favorite things\n",
    "\n",
    "### To get to know more about me, check out my <a href=\"https://www.lizziewalsh.com\">website </a> \n",
    "\n",
    "#### There are many things that I like to do, but some are more fun than others. When I have free time, I try to invest more time in some of my more challenging hobbies. A challenging hobby doesn't have to be hard, but it often is.\n",
    "\n",
    "* Playing keyboard\n",
    "* Learning to embroider\n",
    "* Lifting weights"
   ]
  },
  {
   "cell_type": "code",
   "execution_count": 7,
   "id": "ccddd013-d1a9-45d6-b3a2-e55abbb86034",
   "metadata": {},
   "outputs": [
    {
     "name": "stdout",
     "output_type": "stream",
     "text": [
      "500\n"
     ]
    }
   ],
   "source": [
    "my_rent = 1000\n",
    "my_income = 1500\n",
    "after_rent = my_income - my_rent\n",
    "print(after_rent)"
   ]
  },
  {
   "cell_type": "code",
   "execution_count": null,
   "id": "2465382d-8149-4d32-975a-6d3442572440",
   "metadata": {},
   "outputs": [],
   "source": []
  }
 ],
 "metadata": {
  "kernelspec": {
   "display_name": "Python [conda env:base] *",
   "language": "python",
   "name": "conda-base-py"
  },
  "language_info": {
   "codemirror_mode": {
    "name": "ipython",
    "version": 3
   },
   "file_extension": ".py",
   "mimetype": "text/x-python",
   "name": "python",
   "nbconvert_exporter": "python",
   "pygments_lexer": "ipython3",
   "version": "3.12.7"
  }
 },
 "nbformat": 4,
 "nbformat_minor": 5
}
