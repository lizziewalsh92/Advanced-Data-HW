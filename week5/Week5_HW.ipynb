{
 "cells": [
  {
   "cell_type": "code",
   "execution_count": 2,
   "id": "9cd89445-d4a0-476a-9983-ed9e7aab042b",
   "metadata": {},
   "outputs": [
    {
     "name": "stdout",
     "output_type": "stream",
     "text": [
      "['improper touching', 'self-medication', 'self-prescribing', 'opioid addiction', 'harassment', 'coercion', 'sexual harrassment', 'sex', 'sexual favor', 'abuse of trust', 'opioid prescriptions in return for sex']\n"
     ]
    }
   ],
   "source": [
    "## Creating list of search terms\n",
    "search_terms= [\"improper touching\", \"self-medication\", \"self-prescribing\", \"opioid addiction\", \"harassment\", \"coercion\", \n",
    "\"sexual harrassment\", \"sex\", \"sexual favor\", \"abuse of trust\", \"opioid prescriptions in return for sex\"]\n",
    "\n",
    "print(search_terms)\n",
    "\n",
    "               "
   ]
  },
  {
   "cell_type": "code",
   "execution_count": 4,
   "id": "5a9b3a22-81e7-48b4-a04b-d0d0803ae812",
   "metadata": {},
   "outputs": [
    {
     "data": {
      "text/plain": [
       "list"
      ]
     },
     "execution_count": 4,
     "metadata": {},
     "output_type": "execute_result"
    }
   ],
   "source": [
    "type(search_terms)"
   ]
  },
  {
   "cell_type": "code",
   "execution_count": 6,
   "id": "30874e29-c37d-4e43-a26d-7e8b88307cd6",
   "metadata": {},
   "outputs": [
    {
     "data": {
      "text/plain": [
       "11"
      ]
     },
     "execution_count": 6,
     "metadata": {},
     "output_type": "execute_result"
    }
   ],
   "source": [
    "len(search_terms)"
   ]
  },
  {
   "cell_type": "code",
   "execution_count": 28,
   "id": "348093f6-b677-428e-828c-b81f1b98254c",
   "metadata": {},
   "outputs": [],
   "source": [
    "donations= [{\"year\": \"2017\", \"donor\": \"David H Koch Charitable Foundation\", \"grantee\":\"City Center For Music And Drama\", \"amount\":15_000_000},\n",
    "{\"year\": \"2017\", \"donor\": \"Barbara And Barre Seid Foundation\", \"grantee\": \"Boys Scouts of America\", \"amount\":2_634_600},\n",
    "{\"year\": \"2013\", \"donor\": \"Bradley Impact Fund Inc\", \"grantee\": \"Young Americas Foundation\", \"amount\":11_000},\n",
    "{\"year\": \"2016\", \"donor\": \"Mercer Family Foundation\", \"grantee\": \"The Becket Fund\", \"amount\":250_000},\n",
    "{\"year\": \"2012\", \"donor\": \"Charles Koch Foundation\", \"grantee\": \"The Phillips Foundation\", \"amount\":25_000}]\n"
   ]
  },
  {
   "cell_type": "code",
   "execution_count": 30,
   "id": "fa0cc13f-c5ce-4771-90ef-3689ab507f98",
   "metadata": {},
   "outputs": [
    {
     "data": {
      "text/plain": [
       "[{'year': '2017',\n",
       "  'donor': 'David H Koch Charitable Foundation',\n",
       "  'grantee': 'City Center For Music And Drama',\n",
       "  'amount': 15000000},\n",
       " {'year': '2017',\n",
       "  'donor': 'Barbara And Barre Seid Foundation',\n",
       "  'grantee': 'Boys Scouts of America',\n",
       "  'amount': 2634600},\n",
       " {'year': '2013',\n",
       "  'donor': 'Bradley Impact Fund Inc',\n",
       "  'grantee': 'Young Americas Foundation',\n",
       "  'amount': 11000},\n",
       " {'year': '2016',\n",
       "  'donor': 'Mercer Family Foundation',\n",
       "  'grantee': 'The Becket Fund',\n",
       "  'amount': 250000},\n",
       " {'year': '2012',\n",
       "  'donor': 'Charles Koch Foundation',\n",
       "  'grantee': 'The Phillips Foundation',\n",
       "  'amount': 25000}]"
      ]
     },
     "execution_count": 30,
     "metadata": {},
     "output_type": "execute_result"
    }
   ],
   "source": [
    "donations"
   ]
  },
  {
   "cell_type": "code",
   "execution_count": 32,
   "id": "e1c51508-b1c6-46d8-be83-b5a48916e59a",
   "metadata": {},
   "outputs": [
    {
     "name": "stdout",
     "output_type": "stream",
     "text": [
      "[{'year': '2017', 'donor': 'David H Koch Charitable Foundation', 'grantee': 'City Center For Music And Drama', 'amount': 15000000}, {'year': '2017', 'donor': 'Barbara And Barre Seid Foundation', 'grantee': 'Boys Scouts of America', 'amount': 2634600}, {'year': '2013', 'donor': 'Bradley Impact Fund Inc', 'grantee': 'Young Americas Foundation', 'amount': 11000}, {'year': '2016', 'donor': 'Mercer Family Foundation', 'grantee': 'The Becket Fund', 'amount': 250000}, {'year': '2012', 'donor': 'Charles Koch Foundation', 'grantee': 'The Phillips Foundation', 'amount': 25000}]\n"
     ]
    }
   ],
   "source": [
    "print(donations)"
   ]
  },
  {
   "cell_type": "code",
   "execution_count": 34,
   "id": "7591ea6a-62fb-40cd-a899-7c6bb97e1b6d",
   "metadata": {},
   "outputs": [
    {
     "data": {
      "text/plain": [
       "5"
      ]
     },
     "execution_count": 34,
     "metadata": {},
     "output_type": "execute_result"
    }
   ],
   "source": [
    "len(donations)"
   ]
  },
  {
   "cell_type": "code",
   "execution_count": 36,
   "id": "e1a7ff71-7731-4e2b-85bd-bd0a44feeb6d",
   "metadata": {},
   "outputs": [],
   "source": [
    "disasters = [\n",
    "        \"Landslides\",\n",
    "        \"Earthquake\",\n",
    "        \"Wildfires\",\n",
    "        \"Tornadoes\",\n",
    "        \"Hurricane\",\n",
    "        \"Wind Storm\",\n",
    "        \"Winter Freeze\",\n",
    "        \"Ice Storm\",\n",
    "        \"Drought\",\n",
    "        \"Tsunami\",\n",
    "        \"Flash floods\",\n",
    "        \"Mudslides\",\n",
    "        \"Torrential rainfall\",\n",
    "        \"Riverine floods\",\n",
    "        \"Tidal Surge\"\n",
    "         ]"
   ]
  },
  {
   "cell_type": "code",
   "execution_count": 38,
   "id": "86652bfb-a10e-4ca9-9c25-0af4a677c1f2",
   "metadata": {},
   "outputs": [
    {
     "data": {
      "text/plain": [
       "['Landslides',\n",
       " 'Earthquake',\n",
       " 'Wildfires',\n",
       " 'Tornadoes',\n",
       " 'Hurricane',\n",
       " 'Wind Storm',\n",
       " 'Winter Freeze',\n",
       " 'Ice Storm',\n",
       " 'Drought',\n",
       " 'Tsunami',\n",
       " 'Flash floods',\n",
       " 'Mudslides',\n",
       " 'Torrential rainfall',\n",
       " 'Riverine floods',\n",
       " 'Tidal Surge']"
      ]
     },
     "execution_count": 38,
     "metadata": {},
     "output_type": "execute_result"
    }
   ],
   "source": [
    "disasters"
   ]
  },
  {
   "cell_type": "code",
   "execution_count": 40,
   "id": "62c237f1-c843-478d-bd4b-8c62fe5dd376",
   "metadata": {},
   "outputs": [
    {
     "data": {
      "text/plain": [
       "'Landslides'"
      ]
     },
     "execution_count": 40,
     "metadata": {},
     "output_type": "execute_result"
    }
   ],
   "source": [
    "disasters[0]"
   ]
  },
  {
   "cell_type": "code",
   "execution_count": 44,
   "id": "49200b3e-bdcf-491e-be5f-330924f49021",
   "metadata": {},
   "outputs": [
    {
     "data": {
      "text/plain": [
       "'Riverine floods'"
      ]
     },
     "execution_count": 44,
     "metadata": {},
     "output_type": "execute_result"
    }
   ],
   "source": [
    "disasters[-2]"
   ]
  },
  {
   "cell_type": "code",
   "execution_count": 52,
   "id": "1f05c731-6745-4d41-aaec-a843c4cdc4a3",
   "metadata": {},
   "outputs": [],
   "source": [
    "disasters_subset=[disasters[2:6]]"
   ]
  },
  {
   "cell_type": "code",
   "execution_count": 54,
   "id": "5ac403f7-9828-45dc-b43f-44498d130923",
   "metadata": {},
   "outputs": [
    {
     "data": {
      "text/plain": [
       "[['Wildfires', 'Tornadoes', 'Hurricane', 'Wind Storm']]"
      ]
     },
     "execution_count": 54,
     "metadata": {},
     "output_type": "execute_result"
    }
   ],
   "source": [
    "disasters_subset"
   ]
  },
  {
   "cell_type": "code",
   "execution_count": 56,
   "id": "ad99d87d-c3a1-4122-9af9-eff87b200f20",
   "metadata": {},
   "outputs": [],
   "source": [
    "disasters_subset2=[disasters[1:8]]"
   ]
  },
  {
   "cell_type": "code",
   "execution_count": 58,
   "id": "c97da28b-a717-4566-80cb-4cc004a48092",
   "metadata": {},
   "outputs": [
    {
     "data": {
      "text/plain": [
       "[['Earthquake',\n",
       "  'Wildfires',\n",
       "  'Tornadoes',\n",
       "  'Hurricane',\n",
       "  'Wind Storm',\n",
       "  'Winter Freeze',\n",
       "  'Ice Storm']]"
      ]
     },
     "execution_count": 58,
     "metadata": {},
     "output_type": "execute_result"
    }
   ],
   "source": [
    "disasters_subset2"
   ]
  },
  {
   "cell_type": "code",
   "execution_count": null,
   "id": "e7a5a100-3a9a-4068-973a-4d55c5bcc0c3",
   "metadata": {},
   "outputs": [],
   "source": []
  }
 ],
 "metadata": {
  "kernelspec": {
   "display_name": "Python [conda env:base] *",
   "language": "python",
   "name": "conda-base-py"
  },
  "language_info": {
   "codemirror_mode": {
    "name": "ipython",
    "version": 3
   },
   "file_extension": ".py",
   "mimetype": "text/x-python",
   "name": "python",
   "nbconvert_exporter": "python",
   "pygments_lexer": "ipython3",
   "version": "3.12.7"
  }
 },
 "nbformat": 4,
 "nbformat_minor": 5
}
