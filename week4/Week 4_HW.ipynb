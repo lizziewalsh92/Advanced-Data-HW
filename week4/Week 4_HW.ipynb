{
 "cells": [
  {
   "cell_type": "code",
   "execution_count": 10,
   "id": "e63f6da4-f47f-45c0-aa85-f8763e9682bc",
   "metadata": {},
   "outputs": [],
   "source": [
    "## assign values to variables 1.1\n",
    "Chicago_murders=762\n",
    "LA_murders=294\n",
    "NYC_murders=334\n",
    "SJ_murders=47"
   ]
  },
  {
   "cell_type": "code",
   "execution_count": 12,
   "id": "08a8aeb4-3186-4b74-a3d3-4154964764dc",
   "metadata": {},
   "outputs": [],
   "source": [
    "## assign values to variables 1.2\n",
    "Chicago_pop=2_705_000\n",
    "LA_pop=3_976_000\n",
    "NYC_pop=8_538_000\n",
    "SJ_pop=1_025_000"
   ]
  },
  {
   "cell_type": "code",
   "execution_count": 32,
   "id": "c3f3af18-49c4-42e2-a085-62c13f373f08",
   "metadata": {},
   "outputs": [
    {
     "name": "stdout",
     "output_type": "stream",
     "text": [
      "28.170055452865068\n",
      "7.394366197183098\n",
      "3.911923167018037\n",
      "4.585365853658536\n"
     ]
    }
   ],
   "source": [
    "## calculate rates per 100k residents\n",
    "Chicago_per100k=(Chicago_murders/Chicago_pop) * 100_000\n",
    "\n",
    "LA_per100k=(LA_murders/LA_pop) * 100_000\n",
    "\n",
    "NYC_per100k=(NYC_murders/NYC_pop) * 100_000\n",
    "\n",
    "SJ_per100k=(SJ_murders/SJ_pop) * 100_000\n",
    "\n",
    "print(Chicago_per100k)\n",
    "print(LA_per100k)\n",
    "print(NYC_per100k)\n",
    "print(SJ_per100k)"
   ]
  },
  {
   "cell_type": "code",
   "execution_count": 30,
   "id": "0d97aa74-b3d6-46b3-8d44-701782abcf41",
   "metadata": {},
   "outputs": [
    {
     "data": {
      "text/plain": [
       "3.911923167018037"
      ]
     },
     "execution_count": 30,
     "metadata": {},
     "output_type": "execute_result"
    }
   ],
   "source": [
    "min(Chicago_per100k, LA_per100k, NYC_per100k, SJ_per100k)"
   ]
  },
  {
   "cell_type": "code",
   "execution_count": 34,
   "id": "80c9a7d7-b5d7-4302-b42a-3f02ac2304fa",
   "metadata": {},
   "outputs": [
    {
     "data": {
      "text/plain": [
       "28.170055452865068"
      ]
     },
     "execution_count": 34,
     "metadata": {},
     "output_type": "execute_result"
    }
   ],
   "source": [
    "max(Chicago_per100k, LA_per100k, NYC_per100k, SJ_per100k)"
   ]
  },
  {
   "cell_type": "code",
   "execution_count": 42,
   "id": "cacfd9bc-f6db-476c-ac09-0e904903f483",
   "metadata": {},
   "outputs": [
    {
     "name": "stdout",
     "output_type": "stream",
     "text": [
      "New York City has the lowest murder rate of four major cites at 3.91% per 100k people, while Chicago has the highest at 28.17%\n"
     ]
    }
   ],
   "source": [
    "print(f\"New York City has the lowest murder rate of four major cites at {NYC_per100k:,.2f}% per 100k people, while Chicago has the highest at {Chicago_per100k:,.2f}%\")"
   ]
  },
  {
   "cell_type": "code",
   "execution_count": null,
   "id": "bb23dc89-74fa-4862-bd39-8763579e3916",
   "metadata": {},
   "outputs": [],
   "source": []
  }
 ],
 "metadata": {
  "kernelspec": {
   "display_name": "Python [conda env:base] *",
   "language": "python",
   "name": "conda-base-py"
  },
  "language_info": {
   "codemirror_mode": {
    "name": "ipython",
    "version": 3
   },
   "file_extension": ".py",
   "mimetype": "text/x-python",
   "name": "python",
   "nbconvert_exporter": "python",
   "pygments_lexer": "ipython3",
   "version": "3.12.7"
  }
 },
 "nbformat": 4,
 "nbformat_minor": 5
}
